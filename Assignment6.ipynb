{
 "cells": [
  {
   "cell_type": "markdown",
   "id": "fad13d0e",
   "metadata": {},
   "source": [
    "### Importing the libraries"
   ]
  },
  {
   "cell_type": "code",
   "execution_count": 3,
   "id": "6297b873",
   "metadata": {},
   "outputs": [],
   "source": [
    "import pandas as pd\n",
    "import numpy as np\n",
    "import matplotlib.pyplot as plt\n",
    "import seaborn as sns"
   ]
  },
  {
   "cell_type": "markdown",
   "id": "5316aac2",
   "metadata": {},
   "source": [
    "### Read the data"
   ]
  },
  {
   "cell_type": "code",
   "execution_count": 4,
   "id": "46d8b134",
   "metadata": {},
   "outputs": [
    {
     "ename": "FileNotFoundError",
     "evalue": "[Errno 2] No such file or directory: 'survey_results_public.csv'",
     "output_type": "error",
     "traceback": [
      "\u001b[1;31m---------------------------------------------------------------------------\u001b[0m",
      "\u001b[1;31mFileNotFoundError\u001b[0m                         Traceback (most recent call last)",
      "\u001b[1;32m<ipython-input-4-f94dec5057df>\u001b[0m in \u001b[0;36m<module>\u001b[1;34m\u001b[0m\n\u001b[1;32m----> 1\u001b[1;33m \u001b[0mdata1\u001b[0m\u001b[1;33m=\u001b[0m\u001b[0mpd\u001b[0m\u001b[1;33m.\u001b[0m\u001b[0mread_csv\u001b[0m\u001b[1;33m(\u001b[0m\u001b[1;34m'survey_results_public.csv'\u001b[0m\u001b[1;33m)\u001b[0m\u001b[1;33m\u001b[0m\u001b[1;33m\u001b[0m\u001b[0m\n\u001b[0m\u001b[0;32m      2\u001b[0m \u001b[0mdata1\u001b[0m\u001b[1;33m.\u001b[0m\u001b[0mhead\u001b[0m\u001b[1;33m(\u001b[0m\u001b[1;33m)\u001b[0m\u001b[1;33m\u001b[0m\u001b[1;33m\u001b[0m\u001b[0m\n",
      "\u001b[1;32m~\\anaconda3\\lib\\site-packages\\pandas\\io\\parsers.py\u001b[0m in \u001b[0;36mread_csv\u001b[1;34m(filepath_or_buffer, sep, delimiter, header, names, index_col, usecols, squeeze, prefix, mangle_dupe_cols, dtype, engine, converters, true_values, false_values, skipinitialspace, skiprows, skipfooter, nrows, na_values, keep_default_na, na_filter, verbose, skip_blank_lines, parse_dates, infer_datetime_format, keep_date_col, date_parser, dayfirst, cache_dates, iterator, chunksize, compression, thousands, decimal, lineterminator, quotechar, quoting, doublequote, escapechar, comment, encoding, dialect, error_bad_lines, warn_bad_lines, delim_whitespace, low_memory, memory_map, float_precision, storage_options)\u001b[0m\n\u001b[0;32m    608\u001b[0m     \u001b[0mkwds\u001b[0m\u001b[1;33m.\u001b[0m\u001b[0mupdate\u001b[0m\u001b[1;33m(\u001b[0m\u001b[0mkwds_defaults\u001b[0m\u001b[1;33m)\u001b[0m\u001b[1;33m\u001b[0m\u001b[1;33m\u001b[0m\u001b[0m\n\u001b[0;32m    609\u001b[0m \u001b[1;33m\u001b[0m\u001b[0m\n\u001b[1;32m--> 610\u001b[1;33m     \u001b[1;32mreturn\u001b[0m \u001b[0m_read\u001b[0m\u001b[1;33m(\u001b[0m\u001b[0mfilepath_or_buffer\u001b[0m\u001b[1;33m,\u001b[0m \u001b[0mkwds\u001b[0m\u001b[1;33m)\u001b[0m\u001b[1;33m\u001b[0m\u001b[1;33m\u001b[0m\u001b[0m\n\u001b[0m\u001b[0;32m    611\u001b[0m \u001b[1;33m\u001b[0m\u001b[0m\n\u001b[0;32m    612\u001b[0m \u001b[1;33m\u001b[0m\u001b[0m\n",
      "\u001b[1;32m~\\anaconda3\\lib\\site-packages\\pandas\\io\\parsers.py\u001b[0m in \u001b[0;36m_read\u001b[1;34m(filepath_or_buffer, kwds)\u001b[0m\n\u001b[0;32m    460\u001b[0m \u001b[1;33m\u001b[0m\u001b[0m\n\u001b[0;32m    461\u001b[0m     \u001b[1;31m# Create the parser.\u001b[0m\u001b[1;33m\u001b[0m\u001b[1;33m\u001b[0m\u001b[1;33m\u001b[0m\u001b[0m\n\u001b[1;32m--> 462\u001b[1;33m     \u001b[0mparser\u001b[0m \u001b[1;33m=\u001b[0m \u001b[0mTextFileReader\u001b[0m\u001b[1;33m(\u001b[0m\u001b[0mfilepath_or_buffer\u001b[0m\u001b[1;33m,\u001b[0m \u001b[1;33m**\u001b[0m\u001b[0mkwds\u001b[0m\u001b[1;33m)\u001b[0m\u001b[1;33m\u001b[0m\u001b[1;33m\u001b[0m\u001b[0m\n\u001b[0m\u001b[0;32m    463\u001b[0m \u001b[1;33m\u001b[0m\u001b[0m\n\u001b[0;32m    464\u001b[0m     \u001b[1;32mif\u001b[0m \u001b[0mchunksize\u001b[0m \u001b[1;32mor\u001b[0m \u001b[0miterator\u001b[0m\u001b[1;33m:\u001b[0m\u001b[1;33m\u001b[0m\u001b[1;33m\u001b[0m\u001b[0m\n",
      "\u001b[1;32m~\\anaconda3\\lib\\site-packages\\pandas\\io\\parsers.py\u001b[0m in \u001b[0;36m__init__\u001b[1;34m(self, f, engine, **kwds)\u001b[0m\n\u001b[0;32m    817\u001b[0m             \u001b[0mself\u001b[0m\u001b[1;33m.\u001b[0m\u001b[0moptions\u001b[0m\u001b[1;33m[\u001b[0m\u001b[1;34m\"has_index_names\"\u001b[0m\u001b[1;33m]\u001b[0m \u001b[1;33m=\u001b[0m \u001b[0mkwds\u001b[0m\u001b[1;33m[\u001b[0m\u001b[1;34m\"has_index_names\"\u001b[0m\u001b[1;33m]\u001b[0m\u001b[1;33m\u001b[0m\u001b[1;33m\u001b[0m\u001b[0m\n\u001b[0;32m    818\u001b[0m \u001b[1;33m\u001b[0m\u001b[0m\n\u001b[1;32m--> 819\u001b[1;33m         \u001b[0mself\u001b[0m\u001b[1;33m.\u001b[0m\u001b[0m_engine\u001b[0m \u001b[1;33m=\u001b[0m \u001b[0mself\u001b[0m\u001b[1;33m.\u001b[0m\u001b[0m_make_engine\u001b[0m\u001b[1;33m(\u001b[0m\u001b[0mself\u001b[0m\u001b[1;33m.\u001b[0m\u001b[0mengine\u001b[0m\u001b[1;33m)\u001b[0m\u001b[1;33m\u001b[0m\u001b[1;33m\u001b[0m\u001b[0m\n\u001b[0m\u001b[0;32m    820\u001b[0m \u001b[1;33m\u001b[0m\u001b[0m\n\u001b[0;32m    821\u001b[0m     \u001b[1;32mdef\u001b[0m \u001b[0mclose\u001b[0m\u001b[1;33m(\u001b[0m\u001b[0mself\u001b[0m\u001b[1;33m)\u001b[0m\u001b[1;33m:\u001b[0m\u001b[1;33m\u001b[0m\u001b[1;33m\u001b[0m\u001b[0m\n",
      "\u001b[1;32m~\\anaconda3\\lib\\site-packages\\pandas\\io\\parsers.py\u001b[0m in \u001b[0;36m_make_engine\u001b[1;34m(self, engine)\u001b[0m\n\u001b[0;32m   1048\u001b[0m             )\n\u001b[0;32m   1049\u001b[0m         \u001b[1;31m# error: Too many arguments for \"ParserBase\"\u001b[0m\u001b[1;33m\u001b[0m\u001b[1;33m\u001b[0m\u001b[1;33m\u001b[0m\u001b[0m\n\u001b[1;32m-> 1050\u001b[1;33m         \u001b[1;32mreturn\u001b[0m \u001b[0mmapping\u001b[0m\u001b[1;33m[\u001b[0m\u001b[0mengine\u001b[0m\u001b[1;33m]\u001b[0m\u001b[1;33m(\u001b[0m\u001b[0mself\u001b[0m\u001b[1;33m.\u001b[0m\u001b[0mf\u001b[0m\u001b[1;33m,\u001b[0m \u001b[1;33m**\u001b[0m\u001b[0mself\u001b[0m\u001b[1;33m.\u001b[0m\u001b[0moptions\u001b[0m\u001b[1;33m)\u001b[0m  \u001b[1;31m# type: ignore[call-arg]\u001b[0m\u001b[1;33m\u001b[0m\u001b[1;33m\u001b[0m\u001b[0m\n\u001b[0m\u001b[0;32m   1051\u001b[0m \u001b[1;33m\u001b[0m\u001b[0m\n\u001b[0;32m   1052\u001b[0m     \u001b[1;32mdef\u001b[0m \u001b[0m_failover_to_python\u001b[0m\u001b[1;33m(\u001b[0m\u001b[0mself\u001b[0m\u001b[1;33m)\u001b[0m\u001b[1;33m:\u001b[0m\u001b[1;33m\u001b[0m\u001b[1;33m\u001b[0m\u001b[0m\n",
      "\u001b[1;32m~\\anaconda3\\lib\\site-packages\\pandas\\io\\parsers.py\u001b[0m in \u001b[0;36m__init__\u001b[1;34m(self, src, **kwds)\u001b[0m\n\u001b[0;32m   1865\u001b[0m \u001b[1;33m\u001b[0m\u001b[0m\n\u001b[0;32m   1866\u001b[0m         \u001b[1;31m# open handles\u001b[0m\u001b[1;33m\u001b[0m\u001b[1;33m\u001b[0m\u001b[1;33m\u001b[0m\u001b[0m\n\u001b[1;32m-> 1867\u001b[1;33m         \u001b[0mself\u001b[0m\u001b[1;33m.\u001b[0m\u001b[0m_open_handles\u001b[0m\u001b[1;33m(\u001b[0m\u001b[0msrc\u001b[0m\u001b[1;33m,\u001b[0m \u001b[0mkwds\u001b[0m\u001b[1;33m)\u001b[0m\u001b[1;33m\u001b[0m\u001b[1;33m\u001b[0m\u001b[0m\n\u001b[0m\u001b[0;32m   1868\u001b[0m         \u001b[1;32massert\u001b[0m \u001b[0mself\u001b[0m\u001b[1;33m.\u001b[0m\u001b[0mhandles\u001b[0m \u001b[1;32mis\u001b[0m \u001b[1;32mnot\u001b[0m \u001b[1;32mNone\u001b[0m\u001b[1;33m\u001b[0m\u001b[1;33m\u001b[0m\u001b[0m\n\u001b[0;32m   1869\u001b[0m         \u001b[1;32mfor\u001b[0m \u001b[0mkey\u001b[0m \u001b[1;32min\u001b[0m \u001b[1;33m(\u001b[0m\u001b[1;34m\"storage_options\"\u001b[0m\u001b[1;33m,\u001b[0m \u001b[1;34m\"encoding\"\u001b[0m\u001b[1;33m,\u001b[0m \u001b[1;34m\"memory_map\"\u001b[0m\u001b[1;33m,\u001b[0m \u001b[1;34m\"compression\"\u001b[0m\u001b[1;33m)\u001b[0m\u001b[1;33m:\u001b[0m\u001b[1;33m\u001b[0m\u001b[1;33m\u001b[0m\u001b[0m\n",
      "\u001b[1;32m~\\anaconda3\\lib\\site-packages\\pandas\\io\\parsers.py\u001b[0m in \u001b[0;36m_open_handles\u001b[1;34m(self, src, kwds)\u001b[0m\n\u001b[0;32m   1360\u001b[0m         \u001b[0mLet\u001b[0m \u001b[0mthe\u001b[0m \u001b[0mreaders\u001b[0m \u001b[0mopen\u001b[0m \u001b[0mIOHanldes\u001b[0m \u001b[0mafter\u001b[0m \u001b[0mthey\u001b[0m \u001b[0mare\u001b[0m \u001b[0mdone\u001b[0m \u001b[1;32mwith\u001b[0m \u001b[0mtheir\u001b[0m \u001b[0mpotential\u001b[0m \u001b[0mraises\u001b[0m\u001b[1;33m.\u001b[0m\u001b[1;33m\u001b[0m\u001b[1;33m\u001b[0m\u001b[0m\n\u001b[0;32m   1361\u001b[0m         \"\"\"\n\u001b[1;32m-> 1362\u001b[1;33m         self.handles = get_handle(\n\u001b[0m\u001b[0;32m   1363\u001b[0m             \u001b[0msrc\u001b[0m\u001b[1;33m,\u001b[0m\u001b[1;33m\u001b[0m\u001b[1;33m\u001b[0m\u001b[0m\n\u001b[0;32m   1364\u001b[0m             \u001b[1;34m\"r\"\u001b[0m\u001b[1;33m,\u001b[0m\u001b[1;33m\u001b[0m\u001b[1;33m\u001b[0m\u001b[0m\n",
      "\u001b[1;32m~\\anaconda3\\lib\\site-packages\\pandas\\io\\common.py\u001b[0m in \u001b[0;36mget_handle\u001b[1;34m(path_or_buf, mode, encoding, compression, memory_map, is_text, errors, storage_options)\u001b[0m\n\u001b[0;32m    640\u001b[0m                 \u001b[0merrors\u001b[0m \u001b[1;33m=\u001b[0m \u001b[1;34m\"replace\"\u001b[0m\u001b[1;33m\u001b[0m\u001b[1;33m\u001b[0m\u001b[0m\n\u001b[0;32m    641\u001b[0m             \u001b[1;31m# Encoding\u001b[0m\u001b[1;33m\u001b[0m\u001b[1;33m\u001b[0m\u001b[1;33m\u001b[0m\u001b[0m\n\u001b[1;32m--> 642\u001b[1;33m             handle = open(\n\u001b[0m\u001b[0;32m    643\u001b[0m                 \u001b[0mhandle\u001b[0m\u001b[1;33m,\u001b[0m\u001b[1;33m\u001b[0m\u001b[1;33m\u001b[0m\u001b[0m\n\u001b[0;32m    644\u001b[0m                 \u001b[0mioargs\u001b[0m\u001b[1;33m.\u001b[0m\u001b[0mmode\u001b[0m\u001b[1;33m,\u001b[0m\u001b[1;33m\u001b[0m\u001b[1;33m\u001b[0m\u001b[0m\n",
      "\u001b[1;31mFileNotFoundError\u001b[0m: [Errno 2] No such file or directory: 'survey_results_public.csv'"
     ]
    }
   ],
   "source": [
    "data1=pd.read_csv('survey_results_public.csv')\n",
    "data1.head()"
   ]
  },
  {
   "cell_type": "code",
   "execution_count": null,
   "id": "3ecc959e",
   "metadata": {},
   "outputs": [],
   "source": [
    "data2=pd.read_csv('survey_results_schema.csv')\n",
    "data2.head()"
   ]
  },
  {
   "cell_type": "code",
   "execution_count": null,
   "id": "cb697498",
   "metadata": {},
   "outputs": [],
   "source": [
    "data1.shape"
   ]
  },
  {
   "cell_type": "code",
   "execution_count": null,
   "id": "2dab0827",
   "metadata": {},
   "outputs": [],
   "source": [
    "data2.shape"
   ]
  },
  {
   "cell_type": "code",
   "execution_count": null,
   "id": "26e6cd6b",
   "metadata": {},
   "outputs": [],
   "source": [
    "data1.columns"
   ]
  },
  {
   "cell_type": "markdown",
   "id": "a61f99c1",
   "metadata": {},
   "source": [
    "### Checking null values"
   ]
  },
  {
   "cell_type": "code",
   "execution_count": null,
   "id": "17edb0b9",
   "metadata": {},
   "outputs": [],
   "source": [
    "data1.isnull().sum()"
   ]
  },
  {
   "cell_type": "code",
   "execution_count": null,
   "id": "9858b47c",
   "metadata": {},
   "outputs": [],
   "source": [
    "pd.set_option('display.max_columns',None)"
   ]
  },
  {
   "cell_type": "code",
   "execution_count": null,
   "id": "4296d1bf",
   "metadata": {},
   "outputs": [],
   "source": [
    "data1.head()"
   ]
  },
  {
   "cell_type": "code",
   "execution_count": null,
   "id": "d4307f2c",
   "metadata": {},
   "outputs": [],
   "source": [
    "data1['Age1stCode'].isnull().sum()"
   ]
  },
  {
   "cell_type": "code",
   "execution_count": null,
   "id": "a2a8f01d",
   "metadata": {},
   "outputs": [],
   "source": [
    "data1.describe()"
   ]
  },
  {
   "cell_type": "markdown",
   "id": "ffbfbb3b",
   "metadata": {},
   "source": [
    "### Q.1 Find the average age of developers when they wrote their first line of code."
   ]
  },
  {
   "cell_type": "code",
   "execution_count": null,
   "id": "f4a4bd50",
   "metadata": {},
   "outputs": [],
   "source": [
    "pd.set_option('display.max_rows',None)"
   ]
  },
  {
   "cell_type": "code",
   "execution_count": null,
   "id": "0f95fd73",
   "metadata": {},
   "outputs": [],
   "source": [
    "data1['Age1stCode'].unique()"
   ]
  },
  {
   "cell_type": "code",
   "execution_count": null,
   "id": "3ae6ad46",
   "metadata": {},
   "outputs": [],
   "source": [
    "mask=data1['Age1stCode']=='Older than 85'\n",
    "data1.loc[mask,('Age1stCode')]=86"
   ]
  },
  {
   "cell_type": "code",
   "execution_count": null,
   "id": "8ca423e6",
   "metadata": {},
   "outputs": [],
   "source": [
    "mask=data1['Age1stCode']=='Younger than 5 years'\n",
    "data1.loc[mask,('Age1stCode')]=4"
   ]
  },
  {
   "cell_type": "code",
   "execution_count": null,
   "id": "4dd5b38a",
   "metadata": {},
   "outputs": [],
   "source": [
    "data1['Age1stCode'].unique()"
   ]
  },
  {
   "cell_type": "code",
   "execution_count": null,
   "id": "7b5930a0",
   "metadata": {},
   "outputs": [],
   "source": [
    "data1['Age1stCode'].isnull().sum()"
   ]
  },
  {
   "cell_type": "code",
   "execution_count": null,
   "id": "a7ab8131",
   "metadata": {},
   "outputs": [],
   "source": [
    "data1['Age1stCode']=data1['Age1stCode'].astype('float')"
   ]
  },
  {
   "cell_type": "code",
   "execution_count": null,
   "id": "2ff02c94",
   "metadata": {},
   "outputs": [],
   "source": [
    "plt.figure(figsize=(16,5))\n",
    "sns.countplot(x='Age1stCode',data=data1,order=data1['Age1stCode'].value_counts().iloc[:20].index)"
   ]
  },
  {
   "cell_type": "code",
   "execution_count": null,
   "id": "001873fb",
   "metadata": {},
   "outputs": [],
   "source": [
    "np.mean(data1['Age1stCode'])"
   ]
  },
  {
   "cell_type": "markdown",
   "id": "ba5b5ce9",
   "metadata": {},
   "source": [
    "### Average age of developers when they wrote their first line of code is 15."
   ]
  },
  {
   "cell_type": "markdown",
   "id": "51cbb28a",
   "metadata": {},
   "source": [
    "### Q.2. Deduce the percentage of developers who know python in each country. "
   ]
  },
  {
   "cell_type": "code",
   "execution_count": null,
   "id": "8ca587c9",
   "metadata": {},
   "outputs": [],
   "source": [
    "data1['Country'].nunique()"
   ]
  },
  {
   "cell_type": "code",
   "execution_count": null,
   "id": "cf1c340a",
   "metadata": {},
   "outputs": [],
   "source": [
    "languages=data1[data1['LanguageWorkedWith'].notnull()]"
   ]
  },
  {
   "cell_type": "code",
   "execution_count": null,
   "id": "026c9aed",
   "metadata": {},
   "outputs": [],
   "source": [
    "languages.head()"
   ]
  },
  {
   "cell_type": "code",
   "execution_count": null,
   "id": "53edf306",
   "metadata": {},
   "outputs": [],
   "source": [
    "countries=languages['Country'].unique()"
   ]
  },
  {
   "cell_type": "code",
   "execution_count": null,
   "id": "46cb3004",
   "metadata": {},
   "outputs": [],
   "source": [
    "languages.groupby(['Country'])['LanguageWorkedWith'].value_counts()"
   ]
  },
  {
   "cell_type": "code",
   "execution_count": null,
   "id": "63f3cc17",
   "metadata": {},
   "outputs": [],
   "source": [
    "country_python={}"
   ]
  },
  {
   "cell_type": "code",
   "execution_count": null,
   "id": "b0f8dac5",
   "metadata": {},
   "outputs": [],
   "source": [
    "for country in countries:\n",
    "    for i in languages.groupby(['Country'])['LanguageWorkedWith'].value_counts()[country].index:\n",
    "        l=[]\n",
    "        l.append(i.split(';'))\n",
    "        for j in l:\n",
    "            if 'Python' in j:\n",
    "                if country not in country_python.keys():\n",
    "                    country_python[country]=1\n",
    "                else:\n",
    "                    country_python[country]+=1"
   ]
  },
  {
   "cell_type": "code",
   "execution_count": null,
   "id": "a9a56b18",
   "metadata": {},
   "outputs": [],
   "source": [
    "country_python"
   ]
  },
  {
   "cell_type": "code",
   "execution_count": null,
   "id": "dd611a5e",
   "metadata": {},
   "outputs": [],
   "source": [
    "def plot_dimension_count(unique_dim_dict,plot_title):\n",
    "    dim_count=pd.DataFrame.from_dict(unique_dim_dict,orient='index',dtype=None)\n",
    "    dim_count.columns=['Count']\n",
    "    dim_count.sort_values('Count',ascending=False,inplace=True)\n",
    "    dim_count[:10].plot(kind='pie',figsize=(12,12),fontsize=10,title=plot_title,subplots=True,autopct='%1.1f%%');\n",
    "    print(dim_count[:10])"
   ]
  },
  {
   "cell_type": "code",
   "execution_count": null,
   "id": "7048e02c",
   "metadata": {},
   "outputs": [],
   "source": [
    "plot_dimension_count(country_python,'The most popular languages')"
   ]
  },
  {
   "cell_type": "markdown",
   "id": "964db99b",
   "metadata": {},
   "source": [
    "### Q.3. Generate a report for the average salary of developer based on continent. "
   ]
  },
  {
   "cell_type": "code",
   "execution_count": null,
   "id": "179429bc",
   "metadata": {},
   "outputs": [],
   "source": [
    "import pycountry_convert as pc"
   ]
  },
  {
   "cell_type": "code",
   "execution_count": null,
   "id": "a23a575a",
   "metadata": {},
   "outputs": [],
   "source": [
    "def country_to_continent(country_name):\n",
    "    if country_name!='Other Country (Not Listed Above)':\n",
    "        try:\n",
    "            country_alpha2=pc.country_name_to_country_alpha2(country_name)\n",
    "            country_continent_code=pc.country_alpha2_to_continent_code(country_alpha2)\n",
    "            country_continent_name=pc.convert_continent_code_to_continent_name(country_continent_code)\n",
    "            return country_continent_name\n",
    "        except:\n",
    "            return \"unknown\"\n",
    "    else:\n",
    "        return \"unknown\""
   ]
  },
  {
   "cell_type": "code",
   "execution_count": null,
   "id": "7d4d368e",
   "metadata": {},
   "outputs": [],
   "source": [
    "data1['Country'].replace({'Hong Kong (S.A.R.)':'Hong Kong'},inplace=True)\n",
    "data1['Country'].replace({'Libyan Arab Jamahiriya':'Libya'},inplace=True)\n",
    "data1['Country'].replace({'Venezuela, Bolivarian Republic of...':'Venezuela'},inplace=True)\n",
    "data1['Country'].replace({'The former Yugoslav Republic of Macedonia':'North Macedonia'},inplace=True)\n",
    "data1['Country'].replace({'Republic of Korea':'South Korea'},inplace=True)\n",
    "data1['Country'].replace({'Congo, Republic of the...':'Republic of the Congo'},inplace=True)\n",
    "data1['Country'].replace({'Timor-Leste':'East Timor'},inplace=True)"
   ]
  },
  {
   "cell_type": "code",
   "execution_count": null,
   "id": "cccc9cbf",
   "metadata": {},
   "outputs": [],
   "source": [
    "names=[country_to_continent(i) for i in data1['Country']]\n",
    "data1['Continent']=names"
   ]
  },
  {
   "cell_type": "code",
   "execution_count": null,
   "id": "1e9c1c99",
   "metadata": {},
   "outputs": [],
   "source": [
    "salary_notnull=data1[data1['ConvertedComp'].notnull()]"
   ]
  },
  {
   "cell_type": "code",
   "execution_count": null,
   "id": "592e6f04",
   "metadata": {},
   "outputs": [],
   "source": [
    "a=salary_notnull.groupby(['Continent'])['ConvertedComp'].mean().sort_values(ascending=False)"
   ]
  },
  {
   "cell_type": "code",
   "execution_count": null,
   "id": "5e120b7b",
   "metadata": {},
   "outputs": [],
   "source": [
    "a.index"
   ]
  },
  {
   "cell_type": "code",
   "execution_count": null,
   "id": "bb94e839",
   "metadata": {},
   "outputs": [],
   "source": [
    "plt.figure(figsize=(16,9))\n",
    "plt.title('Salary countplot based on Continent',fontsize=20,fontweight='bold',y=1.05,)\n",
    "plt.ylabel('Salary',fontsize=15)\n",
    "plt.xlabel('Continent',fontsize=15)\n",
    "a.plot(kind='bar')"
   ]
  },
  {
   "cell_type": "markdown",
   "id": "7cc37a50",
   "metadata": {},
   "source": [
    "### Q.4.  Based on this survey, what will be the most desired programming language for the year 2020? "
   ]
  },
  {
   "cell_type": "code",
   "execution_count": null,
   "id": "ebeb099e",
   "metadata": {},
   "outputs": [],
   "source": [
    "language_desired=data1[data1['LanguageDesireNextYear'].notnull()]"
   ]
  },
  {
   "cell_type": "code",
   "execution_count": null,
   "id": "4a692c88",
   "metadata": {},
   "outputs": [],
   "source": [
    "unique_lang={}"
   ]
  },
  {
   "cell_type": "code",
   "execution_count": null,
   "id": "a1ed7c9e",
   "metadata": {},
   "outputs": [],
   "source": [
    "for language_set in languages['LanguageDesireNextYear'].apply(lambda row: str(row).split(';')):\n",
    "    for language in language_set:\n",
    "        if language not in unique_lang.keys():\n",
    "            unique_lang[language]=1\n",
    "        else:\n",
    "            unique_lang[language]+=1"
   ]
  },
  {
   "cell_type": "code",
   "execution_count": null,
   "id": "b782719c",
   "metadata": {},
   "outputs": [],
   "source": [
    "unique_lang"
   ]
  },
  {
   "cell_type": "code",
   "execution_count": null,
   "id": "1ab16673",
   "metadata": {},
   "outputs": [],
   "source": [
    "def plot_dimension_count(unique_dim_dict,plot_title):\n",
    "    dim_count=pd.DataFrame.from_dict(unique_dim_dict,orient='index',dtype=None)\n",
    "    dim_count.columns=['Count']\n",
    "    dim_count.sort_values('Count',ascending=True,inplace=True)\n",
    "    dim_count.plot(kind='barh',figsize=(12,12),fontsize=10,title=plot_title);"
   ]
  },
  {
   "cell_type": "code",
   "execution_count": null,
   "id": "45b4e075",
   "metadata": {},
   "outputs": [],
   "source": [
    "plot_dimension_count(unique_lang,'The most popular Languages')"
   ]
  },
  {
   "cell_type": "markdown",
   "id": "c8bcccd4",
   "metadata": {},
   "source": [
    "### Q.5. What is the distribution of people who code as a hobby based on gender and continent (hint: use your mapping of country to continent)? "
   ]
  },
  {
   "cell_type": "code",
   "execution_count": null,
   "id": "53cea199",
   "metadata": {},
   "outputs": [],
   "source": [
    "data1['Gender'].unique()"
   ]
  },
  {
   "cell_type": "code",
   "execution_count": null,
   "id": "b6d4ee6a",
   "metadata": {},
   "outputs": [],
   "source": [
    "df=data1[data1['Hobbyist']=='Yes']"
   ]
  },
  {
   "cell_type": "code",
   "execution_count": null,
   "id": "b44a1c02",
   "metadata": {},
   "outputs": [],
   "source": [
    "data1['Hobbyist']=data1['Hobbyist'].map({'Yes':1,'No':0})"
   ]
  },
  {
   "cell_type": "code",
   "execution_count": null,
   "id": "1595caee",
   "metadata": {},
   "outputs": [],
   "source": [
    "data1['Gender'].value_counts()"
   ]
  },
  {
   "cell_type": "code",
   "execution_count": null,
   "id": "67501a31",
   "metadata": {},
   "outputs": [],
   "source": [
    "l=[]\n",
    "for i in data1['Gender']:\n",
    "    if i != 'Man' and i != 'Woman':\n",
    "        l.append('others')\n",
    "    else:\n",
    "        l.append(i)"
   ]
  },
  {
   "cell_type": "code",
   "execution_count": null,
   "id": "16557995",
   "metadata": {},
   "outputs": [],
   "source": [
    "data1['Gender']=l"
   ]
  },
  {
   "cell_type": "code",
   "execution_count": null,
   "id": "e2b06c96",
   "metadata": {},
   "outputs": [],
   "source": [
    "data1['Gender'].value_counts()"
   ]
  },
  {
   "cell_type": "code",
   "execution_count": null,
   "id": "ae0d8589",
   "metadata": {},
   "outputs": [],
   "source": [
    "plt.figure(figsize=(12,7))\n",
    "sns.barplot(x='Gender',y='Hobbyist',hue='Continent',data=data1)\n",
    "plt.grid()\n",
    "N=3\n",
    "ind=np.arange(N)\n",
    "s=(data1['Gender'].value_counts().index)\n",
    "plt.xticks(ind,s,rotation='vertical',fontsize=15)\n",
    "plt.show()"
   ]
  },
  {
   "cell_type": "markdown",
   "id": "6c1649f9",
   "metadata": {},
   "source": [
    "### Q.6. Generate the report for job and career satisfaction of developer based on their gender and continent? "
   ]
  },
  {
   "cell_type": "code",
   "execution_count": null,
   "id": "24b74c27",
   "metadata": {},
   "outputs": [],
   "source": [
    "data1['JobSat'].value_counts()"
   ]
  },
  {
   "cell_type": "code",
   "execution_count": null,
   "id": "f39cc5f5",
   "metadata": {},
   "outputs": [],
   "source": [
    "data1['JobSat']=data1['JobSat'].map({'Slightly satisfied':5,'Very satisfied':4, 'Slightly dissatisfied':2, 'Neither satisfied nor dissatisfied':3, 'Very dissatisfied':1})"
   ]
  },
  {
   "cell_type": "code",
   "execution_count": null,
   "id": "7923290a",
   "metadata": {},
   "outputs": [],
   "source": [
    "plt.figure(figsize=(12,7))\n",
    "sns.barplot(x='Gender',y='JobSat',hue='Continent',data=data1)\n",
    "plt.grid()\n",
    "N=3\n",
    "ind=np.arange(N)\n",
    "s=(data1['Gender'].value_counts().index)\n",
    "plt.xticks(ind,s,rotation='vertical',fontsize=15)\n",
    "plt.show()"
   ]
  }
 ],
 "metadata": {
  "kernelspec": {
   "display_name": "Python 3",
   "language": "python",
   "name": "python3"
  }
 },
 "nbformat": 4,
 "nbformat_minor": 5
}
